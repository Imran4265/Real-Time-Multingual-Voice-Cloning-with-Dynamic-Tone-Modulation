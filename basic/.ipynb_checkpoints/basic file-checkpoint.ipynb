{
 "cells": [
  {
   "cell_type": "code",
   "execution_count": 2,
   "id": "7fd0b74f",
   "metadata": {},
   "outputs": [
    {
     "name": "stdout",
     "output_type": "stream",
     "text": [
      "Requirement already satisfied: SpeechRecognition in c:\\users\\nihanth\\new folder\\lib\\site-packages (3.10.4)\n",
      "Requirement already satisfied: requests>=2.26.0 in c:\\users\\nihanth\\new folder\\lib\\site-packages (from SpeechRecognition) (2.29.0)\n",
      "Requirement already satisfied: typing-extensions in c:\\users\\nihanth\\new folder\\lib\\site-packages (from SpeechRecognition) (4.6.3)\n",
      "Requirement already satisfied: charset-normalizer<4,>=2 in c:\\users\\nihanth\\new folder\\lib\\site-packages (from requests>=2.26.0->SpeechRecognition) (2.0.4)\n",
      "Requirement already satisfied: idna<4,>=2.5 in c:\\users\\nihanth\\new folder\\lib\\site-packages (from requests>=2.26.0->SpeechRecognition) (2.10)\n",
      "Requirement already satisfied: urllib3<1.27,>=1.21.1 in c:\\users\\nihanth\\new folder\\lib\\site-packages (from requests>=2.26.0->SpeechRecognition) (1.26.16)\n",
      "Requirement already satisfied: certifi>=2017.4.17 in c:\\users\\nihanth\\new folder\\lib\\site-packages (from requests>=2.26.0->SpeechRecognition) (2023.5.7)\n",
      "Note: you may need to restart the kernel to use updated packages.\n"
     ]
    }
   ],
   "source": [
    "pip install SpeechRecognition"
   ]
  },
  {
   "cell_type": "code",
   "execution_count": null,
   "id": "d929d21b",
   "metadata": {},
   "outputs": [],
   "source": []
  },
  {
   "cell_type": "code",
   "execution_count": 3,
   "id": "b0fb0fc5",
   "metadata": {},
   "outputs": [
    {
     "name": "stdout",
     "output_type": "stream",
     "text": [
      "Requirement already satisfied: moviepy in c:\\users\\nihanth\\new folder\\lib\\site-packages (1.0.3)Note: you may need to restart the kernel to use updated packages.\n",
      "\n",
      "Requirement already satisfied: decorator<5.0,>=4.0.2 in c:\\users\\nihanth\\new folder\\lib\\site-packages (from moviepy) (4.4.2)\n",
      "Requirement already satisfied: tqdm<5.0,>=4.11.2 in c:\\users\\nihanth\\new folder\\lib\\site-packages (from moviepy) (4.65.0)\n",
      "Requirement already satisfied: requests<3.0,>=2.8.1 in c:\\users\\nihanth\\new folder\\lib\\site-packages (from moviepy) (2.29.0)\n",
      "Requirement already satisfied: proglog<=1.0.0 in c:\\users\\nihanth\\new folder\\lib\\site-packages (from moviepy) (0.1.10)\n",
      "Requirement already satisfied: numpy>=1.17.3 in c:\\users\\nihanth\\new folder\\lib\\site-packages (from moviepy) (1.24.3)\n",
      "Requirement already satisfied: imageio<3.0,>=2.5 in c:\\users\\nihanth\\new folder\\lib\\site-packages (from moviepy) (2.26.0)\n",
      "Requirement already satisfied: imageio-ffmpeg>=0.2.0 in c:\\users\\nihanth\\new folder\\lib\\site-packages (from moviepy) (0.5.1)\n",
      "Requirement already satisfied: pillow>=8.3.2 in c:\\users\\nihanth\\new folder\\lib\\site-packages (from imageio<3.0,>=2.5->moviepy) (9.4.0)\n",
      "Requirement already satisfied: setuptools in c:\\users\\nihanth\\new folder\\lib\\site-packages (from imageio-ffmpeg>=0.2.0->moviepy) (67.8.0)\n",
      "Requirement already satisfied: charset-normalizer<4,>=2 in c:\\users\\nihanth\\new folder\\lib\\site-packages (from requests<3.0,>=2.8.1->moviepy) (2.0.4)\n",
      "Requirement already satisfied: idna<4,>=2.5 in c:\\users\\nihanth\\new folder\\lib\\site-packages (from requests<3.0,>=2.8.1->moviepy) (2.10)\n",
      "Requirement already satisfied: urllib3<1.27,>=1.21.1 in c:\\users\\nihanth\\new folder\\lib\\site-packages (from requests<3.0,>=2.8.1->moviepy) (1.26.16)\n",
      "Requirement already satisfied: certifi>=2017.4.17 in c:\\users\\nihanth\\new folder\\lib\\site-packages (from requests<3.0,>=2.8.1->moviepy) (2023.5.7)\n",
      "Requirement already satisfied: colorama in c:\\users\\nihanth\\new folder\\lib\\site-packages (from tqdm<5.0,>=4.11.2->moviepy) (0.4.6)\n"
     ]
    }
   ],
   "source": [
    "pip install moviepy"
   ]
  },
  {
   "cell_type": "code",
   "execution_count": 4,
   "id": "d4424d76",
   "metadata": {},
   "outputs": [
    {
     "name": "stdout",
     "output_type": "stream",
     "text": [
      "Requirement already satisfied: googletrans in c:\\users\\nihanth\\new folder\\lib\\site-packages (4.0.0rc1)\n",
      "Requirement already satisfied: httpx==0.13.3 in c:\\users\\nihanth\\new folder\\lib\\site-packages (from googletrans) (0.13.3)\n",
      "Requirement already satisfied: certifi in c:\\users\\nihanth\\new folder\\lib\\site-packages (from httpx==0.13.3->googletrans) (2023.5.7)\n",
      "Requirement already satisfied: hstspreload in c:\\users\\nihanth\\new folder\\lib\\site-packages (from httpx==0.13.3->googletrans) (2024.9.1)\n",
      "Requirement already satisfied: sniffio in c:\\users\\nihanth\\new folder\\lib\\site-packages (from httpx==0.13.3->googletrans) (1.2.0)\n",
      "Requirement already satisfied: chardet==3.* in c:\\users\\nihanth\\new folder\\lib\\site-packages (from httpx==0.13.3->googletrans) (3.0.4)\n",
      "Requirement already satisfied: idna==2.* in c:\\users\\nihanth\\new folder\\lib\\site-packages (from httpx==0.13.3->googletrans) (2.10)\n",
      "Requirement already satisfied: rfc3986<2,>=1.3 in c:\\users\\nihanth\\new folder\\lib\\site-packages (from httpx==0.13.3->googletrans) (1.5.0)\n",
      "Requirement already satisfied: httpcore==0.9.* in c:\\users\\nihanth\\new folder\\lib\\site-packages (from httpx==0.13.3->googletrans) (0.9.1)\n",
      "Requirement already satisfied: h11<0.10,>=0.8 in c:\\users\\nihanth\\new folder\\lib\\site-packages (from httpcore==0.9.*->httpx==0.13.3->googletrans) (0.9.0)\n",
      "Requirement already satisfied: h2==3.* in c:\\users\\nihanth\\new folder\\lib\\site-packages (from httpcore==0.9.*->httpx==0.13.3->googletrans) (3.2.0)\n",
      "Requirement already satisfied: hyperframe<6,>=5.2.0 in c:\\users\\nihanth\\new folder\\lib\\site-packages (from h2==3.*->httpcore==0.9.*->httpx==0.13.3->googletrans) (5.2.0)\n",
      "Requirement already satisfied: hpack<4,>=3.0 in c:\\users\\nihanth\\new folder\\lib\\site-packages (from h2==3.*->httpcore==0.9.*->httpx==0.13.3->googletrans) (3.0.0)\n",
      "Note: you may need to restart the kernel to use updated packages.\n"
     ]
    }
   ],
   "source": [
    "pip install googletrans"
   ]
  },
  {
   "cell_type": "code",
   "execution_count": 4,
   "id": "4015b39e",
   "metadata": {},
   "outputs": [
    {
     "name": "stdout",
     "output_type": "stream",
     "text": [
      "Requirement already satisfied: googletrans==4.0.0-rc1 in c:\\users\\nihanth\\new folder\\lib\\site-packages (4.0.0rc1)\n",
      "Requirement already satisfied: httpx==0.13.3 in c:\\users\\nihanth\\new folder\\lib\\site-packages (from googletrans==4.0.0-rc1) (0.13.3)\n",
      "Requirement already satisfied: certifi in c:\\users\\nihanth\\new folder\\lib\\site-packages (from httpx==0.13.3->googletrans==4.0.0-rc1) (2023.5.7)\n",
      "Requirement already satisfied: hstspreload in c:\\users\\nihanth\\new folder\\lib\\site-packages (from httpx==0.13.3->googletrans==4.0.0-rc1) (2024.9.1)\n",
      "Requirement already satisfied: sniffio in c:\\users\\nihanth\\new folder\\lib\\site-packages (from httpx==0.13.3->googletrans==4.0.0-rc1) (1.2.0)\n",
      "Requirement already satisfied: chardet==3.* in c:\\users\\nihanth\\new folder\\lib\\site-packages (from httpx==0.13.3->googletrans==4.0.0-rc1) (3.0.4)\n",
      "Requirement already satisfied: idna==2.* in c:\\users\\nihanth\\new folder\\lib\\site-packages (from httpx==0.13.3->googletrans==4.0.0-rc1) (2.10)\n",
      "Requirement already satisfied: rfc3986<2,>=1.3 in c:\\users\\nihanth\\new folder\\lib\\site-packages (from httpx==0.13.3->googletrans==4.0.0-rc1) (1.5.0)\n",
      "Requirement already satisfied: httpcore==0.9.* in c:\\users\\nihanth\\new folder\\lib\\site-packages (from httpx==0.13.3->googletrans==4.0.0-rc1) (0.9.1)\n",
      "Requirement already satisfied: h11<0.10,>=0.8 in c:\\users\\nihanth\\new folder\\lib\\site-packages (from httpcore==0.9.*->httpx==0.13.3->googletrans==4.0.0-rc1) (0.9.0)\n",
      "Requirement already satisfied: h2==3.* in c:\\users\\nihanth\\new folder\\lib\\site-packages (from httpcore==0.9.*->httpx==0.13.3->googletrans==4.0.0-rc1) (3.2.0)\n",
      "Requirement already satisfied: hyperframe<6,>=5.2.0 in c:\\users\\nihanth\\new folder\\lib\\site-packages (from h2==3.*->httpcore==0.9.*->httpx==0.13.3->googletrans==4.0.0-rc1) (5.2.0)\n",
      "Requirement already satisfied: hpack<4,>=3.0 in c:\\users\\nihanth\\new folder\\lib\\site-packages (from h2==3.*->httpcore==0.9.*->httpx==0.13.3->googletrans==4.0.0-rc1) (3.0.0)\n",
      "Note: you may need to restart the kernel to use updated packages.\n"
     ]
    }
   ],
   "source": [
    "pip install --upgrade googletrans==4.0.0-rc1\n"
   ]
  },
  {
   "cell_type": "code",
   "execution_count": 5,
   "id": "010c765c",
   "metadata": {},
   "outputs": [
    {
     "name": "stdout",
     "output_type": "stream",
     "text": [
      "Requirement already satisfied: deep-translator in c:\\users\\nihanth\\new folder\\lib\\site-packages (1.11.4)\n",
      "Requirement already satisfied: beautifulsoup4<5.0.0,>=4.9.1 in c:\\users\\nihanth\\new folder\\lib\\site-packages (from deep-translator) (4.12.2)\n",
      "Requirement already satisfied: requests<3.0.0,>=2.23.0 in c:\\users\\nihanth\\new folder\\lib\\site-packages (from deep-translator) (2.29.0)\n",
      "Requirement already satisfied: soupsieve>1.2 in c:\\users\\nihanth\\new folder\\lib\\site-packages (from beautifulsoup4<5.0.0,>=4.9.1->deep-translator) (2.4)\n",
      "Requirement already satisfied: charset-normalizer<4,>=2 in c:\\users\\nihanth\\new folder\\lib\\site-packages (from requests<3.0.0,>=2.23.0->deep-translator) (2.0.4)\n",
      "Requirement already satisfied: idna<4,>=2.5 in c:\\users\\nihanth\\new folder\\lib\\site-packages (from requests<3.0.0,>=2.23.0->deep-translator) (2.10)\n",
      "Requirement already satisfied: urllib3<1.27,>=1.21.1 in c:\\users\\nihanth\\new folder\\lib\\site-packages (from requests<3.0.0,>=2.23.0->deep-translator) (1.26.16)\n",
      "Requirement already satisfied: certifi>=2017.4.17 in c:\\users\\nihanth\\new folder\\lib\\site-packages (from requests<3.0.0,>=2.23.0->deep-translator) (2023.5.7)\n",
      "Note: you may need to restart the kernel to use updated packages.\n"
     ]
    }
   ],
   "source": [
    "pip install deep-translator\n"
   ]
  },
  {
   "cell_type": "code",
   "execution_count": 6,
   "id": "f99df26b",
   "metadata": {},
   "outputs": [
    {
     "name": "stdout",
     "output_type": "stream",
     "text": [
      "Requirement already satisfied: translate in c:\\users\\nihanth\\new folder\\lib\\site-packages (3.6.1)Note: you may need to restart the kernel to use updated packages.\n",
      "\n",
      "Requirement already satisfied: click in c:\\users\\nihanth\\new folder\\lib\\site-packages (from translate) (8.0.4)\n",
      "Requirement already satisfied: lxml in c:\\users\\nihanth\\new folder\\lib\\site-packages (from translate) (4.9.2)\n",
      "Requirement already satisfied: requests in c:\\users\\nihanth\\new folder\\lib\\site-packages (from translate) (2.29.0)\n",
      "Requirement already satisfied: libretranslatepy==2.1.1 in c:\\users\\nihanth\\new folder\\lib\\site-packages (from translate) (2.1.1)\n",
      "Requirement already satisfied: colorama in c:\\users\\nihanth\\new folder\\lib\\site-packages (from click->translate) (0.4.6)\n",
      "Requirement already satisfied: charset-normalizer<4,>=2 in c:\\users\\nihanth\\new folder\\lib\\site-packages (from requests->translate) (2.0.4)\n",
      "Requirement already satisfied: idna<4,>=2.5 in c:\\users\\nihanth\\new folder\\lib\\site-packages (from requests->translate) (2.10)\n",
      "Requirement already satisfied: urllib3<1.27,>=1.21.1 in c:\\users\\nihanth\\new folder\\lib\\site-packages (from requests->translate) (1.26.16)\n",
      "Requirement already satisfied: certifi>=2017.4.17 in c:\\users\\nihanth\\new folder\\lib\\site-packages (from requests->translate) (2023.5.7)\n"
     ]
    }
   ],
   "source": [
    "pip install translate\n"
   ]
  },
  {
   "cell_type": "code",
   "execution_count": 1,
   "id": "b36e83fd",
   "metadata": {},
   "outputs": [],
   "source": [
    "import moviepy.editor as mp\n",
    "import speech_recognition as sr\n",
    "from translate import Translator\n",
    "\n",
    "# Step 1: Extract audio from video\n",
    "def extract_audio_from_video(video_path, audio_path):\n",
    "    video = mp.VideoFileClip(video_path)\n",
    "    audio_file = video.audio\n",
    "    audio_file.write_audiofile(audio_path)\n",
    "\n",
    "# Step 2: Convert speech to text\n",
    "def convert_speech_to_text(audio_path):\n",
    "    r = sr.Recognizer()\n",
    "    with sr.AudioFile(audio_path) as source:\n",
    "        data = r.record(source)\n",
    "    return r.recognize_google(data)\n",
    "\n",
    "# Step 3: Translate text from English to Hindi\n",
    "def translate_text(text, target_language='hi'):\n",
    "    translator = Translator(to_lang=target_language)\n",
    "    return translator.translate(text)\n",
    "\n",
    "def main():\n",
    "    video_path = \"C:/Users/NIHANTH/Downloads/demo_video.mp4\"\n",
    "    audio_path = \"extracted_audio.wav\"\n",
    "\n",
    "    # Extract audio from the video\n",
    "    extract_audio_from_video(video_path, audio_path)\n",
    "    \n",
    "    # Convert the extracted audio to text\n",
    "    try:\n",
    "        text = convert_speech_to_text(audio_path)\n",
    "        print(\"\\nThe resultant text from video is: \\n\")\n",
    "        print(text)\n",
    "\n",
    "        # Translate the text from English to Hindi\n",
    "        translated_text = translate_text(text)\n",
    "        print(\"\\nTranslated text in Hindi: \\n\")\n",
    "        print(translated_text)\n",
    "    except Exception as e:\n",
    "        print(f\"An error occurred: {e}\")\n",
    "\n",
    "if __name__ == \"__main__\":\n",
    "    main()\n"
   ]
  },
  {
   "cell_type": "code",
   "execution_count": 7,
   "id": "c38fee63",
   "metadata": {},
   "outputs": [
    {
     "name": "stdout",
     "output_type": "stream",
     "text": [
      "Requirement already satisfied: gTTS in c:\\users\\nihanth\\new folder\\lib\\site-packages (2.5.3)\n",
      "Requirement already satisfied: requests<3,>=2.27 in c:\\users\\nihanth\\new folder\\lib\\site-packages (from gTTS) (2.29.0)\n",
      "Requirement already satisfied: click<8.2,>=7.1 in c:\\users\\nihanth\\new folder\\lib\\site-packages (from gTTS) (8.0.4)\n",
      "Requirement already satisfied: colorama in c:\\users\\nihanth\\new folder\\lib\\site-packages (from click<8.2,>=7.1->gTTS) (0.4.6)\n",
      "Requirement already satisfied: charset-normalizer<4,>=2 in c:\\users\\nihanth\\new folder\\lib\\site-packages (from requests<3,>=2.27->gTTS) (2.0.4)\n",
      "Requirement already satisfied: idna<4,>=2.5 in c:\\users\\nihanth\\new folder\\lib\\site-packages (from requests<3,>=2.27->gTTS) (2.10)\n",
      "Requirement already satisfied: urllib3<1.27,>=1.21.1 in c:\\users\\nihanth\\new folder\\lib\\site-packages (from requests<3,>=2.27->gTTS) (1.26.16)\n",
      "Requirement already satisfied: certifi>=2017.4.17 in c:\\users\\nihanth\\new folder\\lib\\site-packages (from requests<3,>=2.27->gTTS) (2023.5.7)\n",
      "Note: you may need to restart the kernel to use updated packages.\n"
     ]
    }
   ],
   "source": [
    "pip install gTTS"
   ]
  },
  {
   "cell_type": "code",
   "execution_count": null,
   "id": "572675bf",
   "metadata": {},
   "outputs": [],
   "source": []
  },
  {
   "cell_type": "code",
   "execution_count": 11,
   "id": "8fbda6a8",
   "metadata": {},
   "outputs": [
    {
     "name": "stdout",
     "output_type": "stream",
     "text": [
      "MoviePy - Writing audio in extracted_audio.wav\n"
     ]
    },
    {
     "name": "stderr",
     "output_type": "stream",
     "text": [
      "                                                                                                                       \r"
     ]
    },
    {
     "name": "stdout",
     "output_type": "stream",
     "text": [
      "MoviePy - Done.\n",
      "\n",
      "The resultant text from the video is: \n",
      "\n",
      "empowerment is authority it is a sign permission slip to actually sees the day it's the process of getting stronger and more confident and more engage and to be empowered is to move to the world without any kind of fear or any kind of apology and with these gifts comes in event is the ability to take charge of your own life is given much is expected and I have been given so much to use my life to lift other people change quotes\n",
      "\n",
      "Translated text in Hindi: \n",
      "\n",
      "सशक्तिकरण अधिकार है यह वास्तव में उस दिन को देखने के लिए एक संकेत अनुमति पर्ची है जब यह मजबूत और अधिक आत्मविश्वास और अधिक संलग्न होने की प्रक्रिया है और सशक्त होना किसी भी प्रकार के डर या किसी भी प्रकार की माफी के बिना दुनिया में जाना है और इन उपहारों के साथ आने की स्थिति में आपके स्वयं के जीवन का प्रभार लेने की क्षमता बहुत अधिक होने की उम्मीद है और मुझे अन्य लोगों को उद्धरण बदलने के लिए अपने जीवन का उपयोग करने के लिए बहुत कुछ दिया गया है\n",
      "\n",
      "The translated text has been converted to speech and saved as translated_speech.mp3\n"
     ]
    }
   ],
   "source": [
    "import moviepy.editor as mp\n",
    "import speech_recognition as sr\n",
    "from translate import Translator\n",
    "from gtts import gTTS\n",
    "\n",
    "# Step 1: Extract audio from video\n",
    "def extract_audio_from_video(video_path, audio_path):\n",
    "    video = mp.VideoFileClip(video_path)\n",
    "    audio_file = video.audio\n",
    "    audio_file.write_audiofile(audio_path)\n",
    "\n",
    "# Step 2: Convert speech to text\n",
    "def convert_speech_to_text(audio_path):\n",
    "    r = sr.Recognizer()\n",
    "    with sr.AudioFile(audio_path) as source:\n",
    "        data = r.record(source)\n",
    "    return r.recognize_google(data)\n",
    "\n",
    "# Step 3: Translate text from English to Hindi\n",
    "def translate_text(text, target_language='hi'):\n",
    "    translator = Translator(to_lang=target_language)\n",
    "    return translator.translate(text)\n",
    "\n",
    "# Step 4: Convert translated text to speech\n",
    "def convert_text_to_speech(translated_text, audio_output_path):\n",
    "    tts = gTTS(translated_text, lang='hi')\n",
    "    tts.save(audio_output_path)\n",
    "\n",
    "def main():\n",
    "    video_path = \"C:/Users/NIHANTH/Downloads/demo_video.mp4\"\n",
    "    audio_path = \"extracted_audio.wav\"\n",
    "    translated_audio_path = \"translated_speech.mp3\"\n",
    "\n",
    "    # Step 1: Extract audio from the video\n",
    "    extract_audio_from_video(video_path, audio_path)\n",
    "    \n",
    "    # Step 2: Convert the extracted audio to text\n",
    "    try:\n",
    "        text = convert_speech_to_text(audio_path)\n",
    "        print(\"\\nThe resultant text from the video is: \\n\")\n",
    "        print(text)\n",
    "\n",
    "        # Step 3: Translate the text from English to Hindi\n",
    "        translated_text = translate_text(text)\n",
    "        print(\"\\nTranslated text in Hindi: \\n\")\n",
    "        print(translated_text)\n",
    "\n",
    "        # Step 4: Convert the translated text to speech and save it as an audio file\n",
    "        convert_text_to_speech(translated_text, translated_audio_path)\n",
    "        print(f\"\\nThe translated text has been converted to speech and saved as {translated_audio_path}\")\n",
    "\n",
    "    except Exception as e:\n",
    "        print(f\"An error occurred: {e}\")\n",
    "\n",
    "if __name__ == \"__main__\":\n",
    "    main()\n"
   ]
  },
  {
   "cell_type": "code",
   "execution_count": 12,
   "id": "72102285",
   "metadata": {},
   "outputs": [
    {
     "name": "stdout",
     "output_type": "stream",
     "text": [
      "Current working directory: C:\\Users\\NIHANTH\\voice clonning\n"
     ]
    }
   ],
   "source": [
    "import os\n",
    "print(\"Current working directory:\", os.getcwd())\n"
   ]
  },
  {
   "cell_type": "code",
   "execution_count": 11,
   "id": "e59c793d",
   "metadata": {},
   "outputs": [
    {
     "name": "stdout",
     "output_type": "stream",
     "text": [
      "Requirement already satisfied: pydub in c:\\users\\nihanth\\new folder\\lib\\site-packages (0.25.1)\n",
      "Note: you may need to restart the kernel to use updated packages.\n"
     ]
    }
   ],
   "source": [
    "pip install pydub\n"
   ]
  },
  {
   "cell_type": "code",
   "execution_count": 12,
   "id": "8d6ff3a8",
   "metadata": {},
   "outputs": [
    {
     "name": "stdout",
     "output_type": "stream",
     "text": [
      "Requirement already satisfied: imageio[ffmpeg] in c:\\users\\nihanth\\new folder\\lib\\site-packages (2.26.0)\n",
      "Requirement already satisfied: numpy in c:\\users\\nihanth\\new folder\\lib\\site-packages (from imageio[ffmpeg]) (1.24.3)\n",
      "Requirement already satisfied: pillow>=8.3.2 in c:\\users\\nihanth\\new folder\\lib\\site-packages (from imageio[ffmpeg]) (9.4.0)\n",
      "Requirement already satisfied: imageio-ffmpeg in c:\\users\\nihanth\\new folder\\lib\\site-packages (from imageio[ffmpeg]) (0.5.1)\n",
      "Requirement already satisfied: psutil in c:\\users\\nihanth\\new folder\\lib\\site-packages (from imageio[ffmpeg]) (5.9.0)\n",
      "Requirement already satisfied: setuptools in c:\\users\\nihanth\\new folder\\lib\\site-packages (from imageio-ffmpeg->imageio[ffmpeg]) (67.8.0)\n",
      "Note: you may need to restart the kernel to use updated packages.\n"
     ]
    }
   ],
   "source": [
    "pip install imageio[ffmpeg]\n"
   ]
  },
  {
   "cell_type": "code",
   "execution_count": 14,
   "id": "6633f9f9",
   "metadata": {},
   "outputs": [
    {
     "name": "stdout",
     "output_type": "stream",
     "text": [
      "Requirement already satisfied: gtts in c:\\users\\nihanth\\new folder\\lib\\site-packages (2.5.3)\n",
      "Requirement already satisfied: pydub in c:\\users\\nihanth\\new folder\\lib\\site-packages (0.25.1)\n",
      "Requirement already satisfied: requests<3,>=2.27 in c:\\users\\nihanth\\new folder\\lib\\site-packages (from gtts) (2.29.0)\n",
      "Requirement already satisfied: click<8.2,>=7.1 in c:\\users\\nihanth\\new folder\\lib\\site-packages (from gtts) (8.0.4)\n",
      "Requirement already satisfied: colorama in c:\\users\\nihanth\\new folder\\lib\\site-packages (from click<8.2,>=7.1->gtts) (0.4.6)\n",
      "Requirement already satisfied: charset-normalizer<4,>=2 in c:\\users\\nihanth\\new folder\\lib\\site-packages (from requests<3,>=2.27->gtts) (2.0.4)\n",
      "Requirement already satisfied: idna<4,>=2.5 in c:\\users\\nihanth\\new folder\\lib\\site-packages (from requests<3,>=2.27->gtts) (2.10)\n",
      "Requirement already satisfied: urllib3<1.27,>=1.21.1 in c:\\users\\nihanth\\new folder\\lib\\site-packages (from requests<3,>=2.27->gtts) (1.26.16)\n",
      "Requirement already satisfied: certifi>=2017.4.17 in c:\\users\\nihanth\\new folder\\lib\\site-packages (from requests<3,>=2.27->gtts) (2023.5.7)\n",
      "Note: you may need to restart the kernel to use updated packages.\n"
     ]
    }
   ],
   "source": [
    "pip install gtts pydub\n"
   ]
  },
  {
   "cell_type": "code",
   "execution_count": 19,
   "id": "54cbfce9",
   "metadata": {},
   "outputs": [],
   "source": [
    "import pyttsx3\n",
    "import time\n",
    "\n",
    "# Initialize the TTS engine\n",
    "engine = pyttsx3.init()\n",
    "\n",
    "# Set the rate of speech (optional)\n",
    "engine.setProperty('rate', 150)\n",
    "\n",
    "# Function to speak sentences with pauses\n",
    "def speak_with_pauses(sentences, pause_duration=2):\n",
    "    for sentence in sentences:\n",
    "        engine.say(sentence)  # Speak the sentence\n",
    "        engine.runAndWait()   # Wait for the sentence to finish\n",
    "        time.sleep(pause_duration)  # Pause between sentences\n",
    "\n",
    "# List of sentences to speak\n",
    "sentences = [\n",
    "    \"Hello, how are you?\",\n",
    "    \"I hope you are having a great day.\",\n",
    "    \"This is a demonstration of text to speech with pauses.\"\n",
    "]\n",
    "\n",
    "# Call the function with a 2-second pause between sentences\n",
    "speak_with_pauses(sentences, pause_duration=2)\n"
   ]
  },
  {
   "cell_type": "code",
   "execution_count": 17,
   "id": "459da5b5",
   "metadata": {},
   "outputs": [
    {
     "name": "stdout",
     "output_type": "stream",
     "text": [
      "Collecting pyttsx3Note: you may need to restart the kernel to use updated packages.\n",
      "\n",
      "  Downloading pyttsx3-2.91-py3-none-any.whl.metadata (3.8 kB)\n",
      "Collecting comtypes (from pyttsx3)\n",
      "  Downloading comtypes-1.4.7-py3-none-any.whl.metadata (6.5 kB)\n",
      "Collecting pypiwin32 (from pyttsx3)\n",
      "  Downloading pypiwin32-223-py3-none-any.whl.metadata (236 bytes)\n",
      "Requirement already satisfied: pywin32 in c:\\users\\nihanth\\new folder\\lib\\site-packages (from pyttsx3) (305.1)\n",
      "Downloading pyttsx3-2.91-py3-none-any.whl (33 kB)\n",
      "Downloading comtypes-1.4.7-py3-none-any.whl (226 kB)\n",
      "Downloading pypiwin32-223-py3-none-any.whl (1.7 kB)\n",
      "Installing collected packages: pypiwin32, comtypes, pyttsx3\n",
      "Successfully installed comtypes-1.4.7 pypiwin32-223 pyttsx3-2.91\n"
     ]
    }
   ],
   "source": [
    "pip install pyttsx3"
   ]
  },
  {
   "cell_type": "code",
   "execution_count": 5,
   "id": "4d95325d",
   "metadata": {},
   "outputs": [
    {
     "name": "stdout",
     "output_type": "stream",
     "text": [
      "MoviePy - Writing audio in extracted_audio1.wav\n"
     ]
    },
    {
     "name": "stderr",
     "output_type": "stream",
     "text": [
      "                                                                                                                       \r"
     ]
    },
    {
     "name": "stdout",
     "output_type": "stream",
     "text": [
      "MoviePy - Done.\n",
      "An error occurred: recognition request failed: Bad Request\n"
     ]
    }
   ],
   "source": [
    "import moviepy.editor as mp\n",
    "import speech_recognition as sr\n",
    "from translate import Translator\n",
    "from gtts import gTTS\n",
    "from pydub import AudioSegment\n",
    "import time\n",
    "\n",
    "# Step 1: Extract audio from video\n",
    "def extract_audio_from_video(video_path, audio_path):\n",
    "    video = mp.VideoFileClip(video_path)\n",
    "    audio_file = video.audio\n",
    "    audio_file.write_audiofile(audio_path)\n",
    "\n",
    "# Step 2: Convert speech to text\n",
    "def convert_speech_to_text(audio_path):\n",
    "    r = sr.Recognizer()\n",
    "    with sr.AudioFile(audio_path) as source:\n",
    "        data = r.record(source)\n",
    "    return r.recognize_google(data)\n",
    "\n",
    "# Step 3: Translate text from English to Hindi\n",
    "def translate_text(text, target_language='hi'):\n",
    "    translator = Translator(to_lang=target_language)\n",
    "    return translator.translate(text)\n",
    "\n",
    "# Step 4: Convert text segments to speech with pauses\n",
    "def convert_text_to_speech_with_pauses(text_segments, audio_output_path, pause_duration=1000):\n",
    "    audio_segments = []\n",
    "    \n",
    "    for segment in text_segments:\n",
    "        tts = gTTS(segment, lang='hi')\n",
    "        temp_path = \"temp1_audio.mp3\"\n",
    "        tts.save(temp_path)\n",
    "        segment_audio = AudioSegment.from_mp3(temp_path)\n",
    "        audio_segments.append(segment_audio)\n",
    "        \n",
    "        # Add a pause\n",
    "        pause = AudioSegment.silent(duration=pause_duration)\n",
    "        audio_segments.append(pause)\n",
    "    \n",
    "    # Concatenate all segments and save the final audio\n",
    "    combined_audio = sum(audio_segments)\n",
    "    combined_audio.export(audio_output_path, format=\"mp3\")\n",
    "\n",
    "def main():\n",
    "    video_path = \"C:/Users/NIHANTH/Downloads/mahesh.mp4\"\n",
    "    audio_path = \"extracted_audio1.wav\"\n",
    "    translated_audio_path = \"translated_speech_with_pauses.mp3\"\n",
    "\n",
    "    # Step 1: Extract audio from the video\n",
    "    extract_audio_from_video(video_path, audio_path)\n",
    "    \n",
    "    # Step 2: Convert the extracted audio to text\n",
    "    try:\n",
    "        text = convert_speech_to_text(audio_path)\n",
    "        print(\"\\nThe resultant text from the video is: \\n\")\n",
    "        print(text)\n",
    "\n",
    "        # Step 3: Translate the text from English to Hindi\n",
    "        translated_text = translate_text(text)\n",
    "        print(\"\\nTranslated text in Hindi: \\n\")\n",
    "        print(translated_text)\n",
    "        \n",
    "        # Split the translated text into segments (e.g., sentences)\n",
    "        text_segments = translated_text.split('. ')\n",
    "        \n",
    "        # Step 4: Convert the text segments to speech with pauses and save it as an audio file\n",
    "        convert_text_to_speech_with_pauses(text_segments, translated_audio_path)\n",
    "        print(f\"\\nThe translated text has been converted to speech with pauses and saved as {translated_audio_path}\")\n",
    "\n",
    "    except Exception as e:\n",
    "        print(f\"An error occurred: {e}\")\n",
    "\n",
    "if __name__ == \"__main__\":\n",
    "    main()\n"
   ]
  },
  {
   "cell_type": "code",
   "execution_count": 6,
   "id": "fb8c811f",
   "metadata": {},
   "outputs": [
    {
     "name": "stdout",
     "output_type": "stream",
     "text": [
      "An error occurred: recognition request failed: Bad Request\n"
     ]
    }
   ],
   "source": [
    "# Test speech recognition with a sample audio file\n",
    "sample_audio_path = \"extracted_audio1.wav\"  # Path to a known good WAV file\n",
    "\n",
    "try:\n",
    "    text = convert_speech_to_text(sample_audio_path)\n",
    "    print(\"\\nText from sample audio is: \\n\")\n",
    "    print(text)\n",
    "except Exception as e:\n",
    "    print(f\"An error occurred: {e}\")\n"
   ]
  },
  {
   "cell_type": "code",
   "execution_count": 7,
   "id": "17484800",
   "metadata": {},
   "outputs": [
    {
     "name": "stdout",
     "output_type": "stream",
     "text": [
      "An error occurred: Speech Recognition request failed; recognition request failed: Bad Request\n"
     ]
    }
   ],
   "source": [
    "def convert_speech_to_text(audio_path):\n",
    "    r = sr.Recognizer()\n",
    "    with sr.AudioFile(audio_path) as source:\n",
    "        data = r.record(source)\n",
    "    try:\n",
    "        # Specify language if needed; otherwise, default is English\n",
    "        return r.recognize_google(data)\n",
    "    except sr.UnknownValueError:\n",
    "        raise Exception(\"Speech Recognition could not understand audio\")\n",
    "    except sr.RequestError as e:\n",
    "        raise Exception(f\"Speech Recognition request failed; {e}\")\n",
    "\n",
    "# Test speech recognition with a sample audio file\n",
    "sample_audio_path = \"extracted_audio1.wav\"  # Path to a known good WAV file\n",
    "\n",
    "try:\n",
    "    text = convert_speech_to_text(sample_audio_path)\n",
    "    print(\"\\nText from sample audio is: \\n\")\n",
    "    print(text)\n",
    "except Exception as e:\n",
    "    print(f\"An error occurred: {e}\")\n"
   ]
  },
  {
   "cell_type": "code",
   "execution_count": 8,
   "id": "4a88c173",
   "metadata": {},
   "outputs": [
    {
     "name": "stdout",
     "output_type": "stream",
     "text": [
      "Request error from Google Speech Recognition service: recognition request failed: Bad Request\n"
     ]
    }
   ],
   "source": [
    "import speech_recognition as sr\n",
    "\n",
    "def test_speech_recognition(audio_path):\n",
    "    recognizer = sr.Recognizer()\n",
    "    try:\n",
    "        with sr.AudioFile(audio_path) as source:\n",
    "            audio_data = recognizer.record(source)\n",
    "        text = recognizer.recognize_google(audio_data)\n",
    "        print(\"Recognized Text:\", text)\n",
    "    except sr.UnknownValueError:\n",
    "        print(\"Google Speech Recognition could not understand audio.\")\n",
    "    except sr.RequestError as e:\n",
    "        print(f\"Request error from Google Speech Recognition service: {e}\")\n",
    "\n",
    "# Test with your audio file\n",
    "audio_file_path = \"extracted_audio1.wav\"\n",
    "test_speech_recognition(audio_file_path)\n"
   ]
  },
  {
   "cell_type": "code",
   "execution_count": null,
   "id": "3e59f471",
   "metadata": {},
   "outputs": [],
   "source": []
  }
 ],
 "metadata": {
  "kernelspec": {
   "display_name": "Python 3 (ipykernel)",
   "language": "python",
   "name": "python3"
  },
  "language_info": {
   "codemirror_mode": {
    "name": "ipython",
    "version": 3
   },
   "file_extension": ".py",
   "mimetype": "text/x-python",
   "name": "python",
   "nbconvert_exporter": "python",
   "pygments_lexer": "ipython3",
   "version": "3.11.3"
  }
 },
 "nbformat": 4,
 "nbformat_minor": 5
}
