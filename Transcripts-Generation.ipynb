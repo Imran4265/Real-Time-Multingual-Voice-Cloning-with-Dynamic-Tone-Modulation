{
 "cells": [
  {
   "cell_type": "code",
   "execution_count": 1,
   "id": "ebedaebe",
   "metadata": {},
   "outputs": [],
   "source": [
    "import moviepy.editor as mp\n",
    "import speech_recognition as sr\n",
    "from translate import Translator\n",
    "from gtts import gTTS\n"
   ]
  },
  {
   "cell_type": "code",
   "execution_count": 3,
   "id": "39a85c32",
   "metadata": {},
   "outputs": [],
   "source": [
    "def extract_audio_from_video(video_path, audio_path):\n",
    "    video = mp.VideoFileClip(video_path)\n",
    "    audio_file = video.audio\n",
    "    audio_file.write_audiofile(audio_path,codec='pcm_s16le')\n"
   ]
  },
  {
   "cell_type": "code",
   "execution_count": 4,
   "id": "79f5d56c",
   "metadata": {},
   "outputs": [],
   "source": [
    "import os\n",
    "\n",
    "def convert_speech_to_text(audio_path):\n",
    "    if not os.path.isfile(audio_path):\n",
    "        raise FileNotFoundError(f\"Audio file not found: {audio_path}\")\n",
    "    print(f\"Processing audio file: {audio_path}\")\n",
    "    r = sr.Recognizer()\n",
    "    with sr.AudioFile(audio_path) as source:\n",
    "        data = r.record(source)\n",
    "    return r.recognize_google(data)\n"
   ]
  },
  {
   "cell_type": "code",
   "execution_count": 5,
   "id": "4ced5e27",
   "metadata": {},
   "outputs": [],
   "source": [
    "def translate_text(text, target_language='hi'):\n",
    "    translator = Translator(to_lang=target_language)\n",
    "    return translator.translate(text)\n"
   ]
  },
  {
   "cell_type": "code",
   "execution_count": 6,
   "id": "57ae04d2",
   "metadata": {},
   "outputs": [],
   "source": [
    "def convert_text_to_speech(translated_text, audio_output_path):\n",
    "    tts = gTTS(translated_text, lang='hi')\n",
    "    tts.save(audio_output_path)\n"
   ]
  },
  {
   "cell_type": "code",
   "execution_count": 9,
   "id": "be51e167",
   "metadata": {},
   "outputs": [
    {
     "name": "stdout",
     "output_type": "stream",
     "text": [
      "MoviePy - Writing audio in kalam.wav\n"
     ]
    },
    {
     "name": "stderr",
     "output_type": "stream",
     "text": [
      "                                                                                                                       "
     ]
    },
    {
     "name": "stdout",
     "output_type": "stream",
     "text": [
      "MoviePy - Done.\n",
      "An error occurred: convert_speech_to_text() missing 1 required positional argument: 'audio_data'\n"
     ]
    },
    {
     "name": "stderr",
     "output_type": "stream",
     "text": [
      "\r"
     ]
    }
   ],
   "source": [
    "def main():\n",
    "    video_path = \"C:/Users/NIHANTH/Downloads/kalam.mp4\"\n",
    "    audio_path = \"kalam.wav\"\n",
    "    translated_audio_path = \"translated_speech_1.mp3\"\n",
    "\n",
    "    # Step 1: Extract audio from the video\n",
    "    extract_audio_from_video(video_path, audio_path)\n",
    "    \n",
    "    # Step 2: Convert the extracted audio to text\n",
    "    try:\n",
    "        text = convert_speech_to_text(audio_path)\n",
    "        print(\"\\nThe resultant text from the video is: \\n\")\n",
    "        print(text)\n",
    "\n",
    "        # Step 3: Translate the text from English to Hindi\n",
    "        translated_text = translate_text(text)\n",
    "        print(\"\\nTranslated text in Hindi: \\n\")\n",
    "        print(translated_text)\n",
    "\n",
    "        # Step 4: Convert the translated text to speech and save it as an audio file\n",
    "        convert_text_to_speech(translated_text, translated_audio_path)\n",
    "        print(f\"\\nThe translated text has been converted to speech and saved as {translated_audio_path}\")\n",
    "\n",
    "    except Exception as e:\n",
    "        print(f\"An error occurred: {e}\")\n",
    "\n",
    "if __name__ == \"__main__\":\n",
    "    main()\n"
   ]
  },
  {
   "cell_type": "code",
   "execution_count": 8,
   "id": "63d047bd",
   "metadata": {},
   "outputs": [
    {
     "name": "stdout",
     "output_type": "stream",
     "text": [
      "Transcribed text: Could not request results from Google Speech Recognition service; recognition request failed: Bad Request\n"
     ]
    }
   ],
   "source": [
    "import speech_recognition as sr\n",
    "\n",
    "def load_audio(audio_path):\n",
    "    r = sr.Recognizer()\n",
    "    with sr.AudioFile(audio_path) as source:\n",
    "        audio_data = r.record(source)\n",
    "    return r, audio_data\n",
    "\n",
    "def convert_speech_to_text(recognizer, audio_data):\n",
    "    try:\n",
    "        text = recognizer.recognize_google(audio_data)\n",
    "        return text\n",
    "    except sr.UnknownValueError:\n",
    "        return \"Google Speech Recognition could not understand the audio.\"\n",
    "    except sr.RequestError as e:\n",
    "        return f\"Could not request results from Google Speech Recognition service; {e}\"\n",
    "\n",
    "def main():\n",
    "    audio_path = \"kalam.wav\"\n",
    "    recognizer, audio_data = load_audio(audio_path)\n",
    "    text = convert_speech_to_text(recognizer, audio_data)\n",
    "    print(\"Transcribed text:\", text)\n",
    "\n",
    "if __name__ == \"__main__\":\n",
    "    main()\n"
   ]
  },
  {
   "cell_type": "code",
   "execution_count": null,
   "id": "16cb8f30",
   "metadata": {},
   "outputs": [],
   "source": []
  }
 ],
 "metadata": {
  "kernelspec": {
   "display_name": "Python 3 (ipykernel)",
   "language": "python",
   "name": "python3"
  },
  "language_info": {
   "codemirror_mode": {
    "name": "ipython",
    "version": 3
   },
   "file_extension": ".py",
   "mimetype": "text/x-python",
   "name": "python",
   "nbconvert_exporter": "python",
   "pygments_lexer": "ipython3",
   "version": "3.11.3"
  }
 },
 "nbformat": 4,
 "nbformat_minor": 5
}
